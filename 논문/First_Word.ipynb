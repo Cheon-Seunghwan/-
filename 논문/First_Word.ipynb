{
 "cells": [
  {
   "cell_type": "code",
   "execution_count": 1,
   "id": "63defdd2",
   "metadata": {},
   "outputs": [],
   "source": [
    "import pandas as pd"
   ]
  },
  {
   "cell_type": "code",
   "execution_count": 2,
   "id": "d4b2c69a",
   "metadata": {},
   "outputs": [],
   "source": [
    "SO = pd.read_excel('/Users/cheon/Desktop/조교/Input Data/엑셀/SO_firstword.xlsx')"
   ]
  },
  {
   "cell_type": "code",
   "execution_count": 3,
   "id": "f0b3ff61",
   "metadata": {},
   "outputs": [],
   "source": [
    "CR_SO = pd.read_excel('/Users/cheon/Desktop/조교/Input Data/엑셀/CR_SO_firstword.xlsx')"
   ]
  },
  {
   "cell_type": "code",
   "execution_count": 4,
   "id": "1a64e821",
   "metadata": {},
   "outputs": [],
   "source": [
    "SO.drop(['Unnamed: 0'], axis=1, inplace=True)\n",
    "CR_SO.drop(['Unnamed: 0'], axis=1, inplace=True)"
   ]
  },
  {
   "cell_type": "code",
   "execution_count": 5,
   "id": "7f90bc29",
   "metadata": {},
   "outputs": [
    {
     "data": {
      "text/html": [
       "<div>\n",
       "<style scoped>\n",
       "    .dataframe tbody tr th:only-of-type {\n",
       "        vertical-align: middle;\n",
       "    }\n",
       "\n",
       "    .dataframe tbody tr th {\n",
       "        vertical-align: top;\n",
       "    }\n",
       "\n",
       "    .dataframe thead th {\n",
       "        text-align: right;\n",
       "    }\n",
       "</style>\n",
       "<table border=\"1\" class=\"dataframe\">\n",
       "  <thead>\n",
       "    <tr style=\"text-align: right;\">\n",
       "      <th></th>\n",
       "      <th>Full Word</th>\n",
       "      <th>Abstract</th>\n",
       "    </tr>\n",
       "  </thead>\n",
       "  <tbody>\n",
       "    <tr>\n",
       "      <th>0</th>\n",
       "      <td>COGENT EDUCATION</td>\n",
       "      <td>C E</td>\n",
       "    </tr>\n",
       "    <tr>\n",
       "      <th>1</th>\n",
       "      <td>COGENT BUSINESS &amp; MANAGEMENT</td>\n",
       "      <td>C B M</td>\n",
       "    </tr>\n",
       "    <tr>\n",
       "      <th>2</th>\n",
       "      <td>INTERNATIONAL JOURNAL OF HYPERTHERMIA</td>\n",
       "      <td>I J H</td>\n",
       "    </tr>\n",
       "    <tr>\n",
       "      <th>3</th>\n",
       "      <td>COGENT SOCIAL SCIENCES</td>\n",
       "      <td>C S S</td>\n",
       "    </tr>\n",
       "    <tr>\n",
       "      <th>4</th>\n",
       "      <td>COGENT ECONOMICS &amp; FINANCE</td>\n",
       "      <td>C E F</td>\n",
       "    </tr>\n",
       "    <tr>\n",
       "      <th>...</th>\n",
       "      <td>...</td>\n",
       "      <td>...</td>\n",
       "    </tr>\n",
       "    <tr>\n",
       "      <th>1977</th>\n",
       "      <td>SOCIAL RESEARCH</td>\n",
       "      <td>S R</td>\n",
       "    </tr>\n",
       "    <tr>\n",
       "      <th>1978</th>\n",
       "      <td>SCIENCE</td>\n",
       "      <td>S</td>\n",
       "    </tr>\n",
       "    <tr>\n",
       "      <th>1979</th>\n",
       "      <td>JAMA SURGERY</td>\n",
       "      <td>J S</td>\n",
       "    </tr>\n",
       "    <tr>\n",
       "      <th>1980</th>\n",
       "      <td>LANCET</td>\n",
       "      <td>L</td>\n",
       "    </tr>\n",
       "    <tr>\n",
       "      <th>1981</th>\n",
       "      <td>JOURNAL OF KOREAN ACADEMY OF NURSING</td>\n",
       "      <td>J K A N</td>\n",
       "    </tr>\n",
       "  </tbody>\n",
       "</table>\n",
       "<p>1982 rows × 2 columns</p>\n",
       "</div>"
      ],
      "text/plain": [
       "                                  Full Word Abstract\n",
       "0                          COGENT EDUCATION      C E\n",
       "1              COGENT BUSINESS & MANAGEMENT    C B M\n",
       "2     INTERNATIONAL JOURNAL OF HYPERTHERMIA    I J H\n",
       "3                    COGENT SOCIAL SCIENCES    C S S\n",
       "4                COGENT ECONOMICS & FINANCE    C E F\n",
       "...                                     ...      ...\n",
       "1977                        SOCIAL RESEARCH      S R\n",
       "1978                                SCIENCE        S\n",
       "1979                           JAMA SURGERY      J S\n",
       "1980                                 LANCET        L\n",
       "1981   JOURNAL OF KOREAN ACADEMY OF NURSING  J K A N\n",
       "\n",
       "[1982 rows x 2 columns]"
      ]
     },
     "execution_count": 5,
     "metadata": {},
     "output_type": "execute_result"
    }
   ],
   "source": [
    "SO"
   ]
  },
  {
   "cell_type": "code",
   "execution_count": 6,
   "id": "53552dcd",
   "metadata": {},
   "outputs": [
    {
     "data": {
      "text/html": [
       "<div>\n",
       "<style scoped>\n",
       "    .dataframe tbody tr th:only-of-type {\n",
       "        vertical-align: middle;\n",
       "    }\n",
       "\n",
       "    .dataframe tbody tr th {\n",
       "        vertical-align: top;\n",
       "    }\n",
       "\n",
       "    .dataframe thead th {\n",
       "        text-align: right;\n",
       "    }\n",
       "</style>\n",
       "<table border=\"1\" class=\"dataframe\">\n",
       "  <thead>\n",
       "    <tr style=\"text-align: right;\">\n",
       "      <th></th>\n",
       "      <th>Full Word</th>\n",
       "      <th>Abstract</th>\n",
       "    </tr>\n",
       "  </thead>\n",
       "  <tbody>\n",
       "    <tr>\n",
       "      <th>0</th>\n",
       "      <td>A ADAMS CLASSIC IMAG</td>\n",
       "      <td>A C I</td>\n",
       "    </tr>\n",
       "    <tr>\n",
       "      <th>1</th>\n",
       "      <td>A B C ACTION LEARNIN</td>\n",
       "      <td>A B C A L</td>\n",
       "    </tr>\n",
       "    <tr>\n",
       "      <th>2</th>\n",
       "      <td>A B C EXHIBIT PLANNI</td>\n",
       "      <td>A B C E P</td>\n",
       "    </tr>\n",
       "    <tr>\n",
       "      <th>3</th>\n",
       "      <td>A BEHAV SYSTEM</td>\n",
       "      <td>B S</td>\n",
       "    </tr>\n",
       "    <tr>\n",
       "      <th>4</th>\n",
       "      <td>A BEHAVIORAL THEORY</td>\n",
       "      <td>B T</td>\n",
       "    </tr>\n",
       "    <tr>\n",
       "      <th>...</th>\n",
       "      <td>...</td>\n",
       "      <td>...</td>\n",
       "    </tr>\n",
       "    <tr>\n",
       "      <th>105787</th>\n",
       "      <td>Yonsei Business Review</td>\n",
       "      <td>Y B R</td>\n",
       "    </tr>\n",
       "    <tr>\n",
       "      <th>105788</th>\n",
       "      <td>journal of taxation and accounting</td>\n",
       "      <td>j t a</td>\n",
       "    </tr>\n",
       "    <tr>\n",
       "      <th>105789</th>\n",
       "      <td>korean journal of taxation research</td>\n",
       "      <td>k j t r</td>\n",
       "    </tr>\n",
       "    <tr>\n",
       "      <th>105790</th>\n",
       "      <td>korean management review</td>\n",
       "      <td>k m r</td>\n",
       "    </tr>\n",
       "    <tr>\n",
       "      <th>105791</th>\n",
       "      <td>korean policy sciences review</td>\n",
       "      <td>k p s r</td>\n",
       "    </tr>\n",
       "  </tbody>\n",
       "</table>\n",
       "<p>105792 rows × 2 columns</p>\n",
       "</div>"
      ],
      "text/plain": [
       "                                   Full Word   Abstract\n",
       "0                       A ADAMS CLASSIC IMAG      A C I\n",
       "1                       A B C ACTION LEARNIN  A B C A L\n",
       "2                       A B C EXHIBIT PLANNI  A B C E P\n",
       "3                             A BEHAV SYSTEM        B S\n",
       "4                        A BEHAVIORAL THEORY        B T\n",
       "...                                      ...        ...\n",
       "105787                Yonsei Business Review      Y B R\n",
       "105788    journal of taxation and accounting      j t a\n",
       "105789   korean journal of taxation research    k j t r\n",
       "105790              korean management review      k m r\n",
       "105791         korean policy sciences review    k p s r\n",
       "\n",
       "[105792 rows x 2 columns]"
      ]
     },
     "execution_count": 6,
     "metadata": {},
     "output_type": "execute_result"
    }
   ],
   "source": [
    "CR_SO"
   ]
  },
  {
   "cell_type": "code",
   "execution_count": 7,
   "id": "3ba9d7f4",
   "metadata": {},
   "outputs": [],
   "source": [
    "SO_copy = SO.copy()\n",
    "CR_SO_copy = CR_SO.copy()"
   ]
  },
  {
   "cell_type": "code",
   "execution_count": 8,
   "id": "11452bbe",
   "metadata": {},
   "outputs": [],
   "source": [
    "CR_SO_copy['Abstract'] = CR_SO_copy['Abstract'].str.upper()"
   ]
  },
  {
   "cell_type": "code",
   "execution_count": 9,
   "id": "e51ec68d",
   "metadata": {},
   "outputs": [],
   "source": [
    "CR_SO_copy.to_excel('/Users/cheon/Desktop/조교/Input Data/엑셀/CR_SO_copy123.xlsx')"
   ]
  },
  {
   "cell_type": "code",
   "execution_count": 10,
   "id": "a0069718",
   "metadata": {},
   "outputs": [],
   "source": [
    "CR_SO_copy = pd.read_excel('/Users/cheon/Desktop/조교/Input Data/엑셀/CR_SO_copy123.xlsx')"
   ]
  },
  {
   "cell_type": "code",
   "execution_count": 12,
   "id": "ad0b7540",
   "metadata": {},
   "outputs": [],
   "source": [
    "CR_SO_copy.drop(['Unnamed: 0'], axis=1, inplace=True)"
   ]
  },
  {
   "cell_type": "code",
   "execution_count": 13,
   "id": "87e39f7b",
   "metadata": {},
   "outputs": [
    {
     "data": {
      "text/html": [
       "<div>\n",
       "<style scoped>\n",
       "    .dataframe tbody tr th:only-of-type {\n",
       "        vertical-align: middle;\n",
       "    }\n",
       "\n",
       "    .dataframe tbody tr th {\n",
       "        vertical-align: top;\n",
       "    }\n",
       "\n",
       "    .dataframe thead th {\n",
       "        text-align: right;\n",
       "    }\n",
       "</style>\n",
       "<table border=\"1\" class=\"dataframe\">\n",
       "  <thead>\n",
       "    <tr style=\"text-align: right;\">\n",
       "      <th></th>\n",
       "      <th>Full Word</th>\n",
       "      <th>Abstract</th>\n",
       "    </tr>\n",
       "  </thead>\n",
       "  <tbody>\n",
       "    <tr>\n",
       "      <th>0</th>\n",
       "      <td>A ADAMS CLASSIC IMAG</td>\n",
       "      <td>A C I</td>\n",
       "    </tr>\n",
       "    <tr>\n",
       "      <th>1</th>\n",
       "      <td>A B C ACTION LEARNIN</td>\n",
       "      <td>A B C A L</td>\n",
       "    </tr>\n",
       "    <tr>\n",
       "      <th>2</th>\n",
       "      <td>A B C EXHIBIT PLANNI</td>\n",
       "      <td>A B C E P</td>\n",
       "    </tr>\n",
       "    <tr>\n",
       "      <th>3</th>\n",
       "      <td>A BEHAV SYSTEM</td>\n",
       "      <td>B S</td>\n",
       "    </tr>\n",
       "    <tr>\n",
       "      <th>4</th>\n",
       "      <td>A BEHAVIORAL THEORY</td>\n",
       "      <td>B T</td>\n",
       "    </tr>\n",
       "    <tr>\n",
       "      <th>...</th>\n",
       "      <td>...</td>\n",
       "      <td>...</td>\n",
       "    </tr>\n",
       "    <tr>\n",
       "      <th>105787</th>\n",
       "      <td>Yonsei Business Review</td>\n",
       "      <td>Y B R</td>\n",
       "    </tr>\n",
       "    <tr>\n",
       "      <th>105788</th>\n",
       "      <td>journal of taxation and accounting</td>\n",
       "      <td>J T A</td>\n",
       "    </tr>\n",
       "    <tr>\n",
       "      <th>105789</th>\n",
       "      <td>korean journal of taxation research</td>\n",
       "      <td>K J T R</td>\n",
       "    </tr>\n",
       "    <tr>\n",
       "      <th>105790</th>\n",
       "      <td>korean management review</td>\n",
       "      <td>K M R</td>\n",
       "    </tr>\n",
       "    <tr>\n",
       "      <th>105791</th>\n",
       "      <td>korean policy sciences review</td>\n",
       "      <td>K P S R</td>\n",
       "    </tr>\n",
       "  </tbody>\n",
       "</table>\n",
       "<p>105792 rows × 2 columns</p>\n",
       "</div>"
      ],
      "text/plain": [
       "                                   Full Word   Abstract\n",
       "0                       A ADAMS CLASSIC IMAG      A C I\n",
       "1                       A B C ACTION LEARNIN  A B C A L\n",
       "2                       A B C EXHIBIT PLANNI  A B C E P\n",
       "3                             A BEHAV SYSTEM        B S\n",
       "4                        A BEHAVIORAL THEORY        B T\n",
       "...                                      ...        ...\n",
       "105787                Yonsei Business Review      Y B R\n",
       "105788    journal of taxation and accounting      J T A\n",
       "105789   korean journal of taxation research    K J T R\n",
       "105790              korean management review      K M R\n",
       "105791         korean policy sciences review    K P S R\n",
       "\n",
       "[105792 rows x 2 columns]"
      ]
     },
     "execution_count": 13,
     "metadata": {},
     "output_type": "execute_result"
    }
   ],
   "source": [
    "CR_SO_copy"
   ]
  },
  {
   "cell_type": "code",
   "execution_count": 14,
   "id": "cf5fcba9",
   "metadata": {},
   "outputs": [],
   "source": [
    "from tqdm import trange, notebook  "
   ]
  },
  {
   "cell_type": "code",
   "execution_count": null,
   "id": "f17d461e",
   "metadata": {},
   "outputs": [],
   "source": [
    "for i in notebook.tqdm(range(105792)) :\n",
    "        #regex : 해당 문자열만 충족하면 변환, inplace : 데이터프레임 내용 변환\n",
    "        CR_SO_copy.replace({'Abstract':{SO['Abstract'][i]:SO['Full Word'][i]}},regex=True,inplace=True)"
   ]
  }
 ],
 "metadata": {
  "kernelspec": {
   "display_name": "Python 3 (ipykernel)",
   "language": "python",
   "name": "python3"
  },
  "language_info": {
   "codemirror_mode": {
    "name": "ipython",
    "version": 3
   },
   "file_extension": ".py",
   "mimetype": "text/x-python",
   "name": "python",
   "nbconvert_exporter": "python",
   "pygments_lexer": "ipython3",
   "version": "3.9.13"
  }
 },
 "nbformat": 4,
 "nbformat_minor": 5
}
